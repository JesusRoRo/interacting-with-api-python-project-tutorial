{
    "cells": [
        {
            "cell_type": "markdown",
            "metadata": {},
            "source": [
                "# Explore here"
            ]
        },
        {
            "cell_type": "code",
            "execution_count": 2,
            "metadata": {},
            "outputs": [
                {
                    "name": "stdout",
                    "output_type": "stream",
                    "text": [
                        "   duration_mins                             name  popularity\n",
                        "0              4               Los Mató el Estado          26\n",
                        "1              2                     Tenéis Speed          22\n",
                        "2              4  Rock'n'roll para Hijos de Perra          21\n"
                    ]
                },
                {
                    "data": {
                        "image/png": "[encoded data removed]",
                        "text/plain": [
                            "<Figure size 640x480 with 1 Axes>"
                        ]
                    },
                    "metadata": {},
                    "output_type": "display_data"
                }
            ],
            "source": [
                "import os\n",
                "import pandas as pd\n",
                "import matplotlib.pyplot as plt\n",
                "from dotenv import load_dotenv\n",
                "import spotipy\n",
                "from spotipy.oauth2 import SpotifyClientCredentials\n",
                "\n",
                "#import seaborn as sns (import not working properly so using matplotlib instead) \n",
                "\n",
                "# load the .env file variables\n",
                "load_dotenv()\n",
                "\n",
                "client_id = os.environ.get(\"CLIENT_ID\")\n",
                "client_secret = os.environ.get(\"CLIENT_SECRET\")\n",
                "\n",
                "artist_uri = 'spotify:artist:1WVMR6t5Uqq5IBqQiFYKTR' #Artist uri for this example\n",
                "spotify = spotipy.Spotify(client_credentials_manager=SpotifyClientCredentials(client_id = client_id, client_secret = client_secret)) #Conection to our spotify account app\n",
                "\n",
                "#Define a function to pass from milliseconds to minutes as the exercise requires\n",
                "def mill_mins(duration_ms):\n",
                "    \n",
                "    return int(((duration_ms / 1000) / 60) % 60)\n",
                "\n",
                "#Gets the top tracks in order, popularity is described as a number following a spotify propietary algorithim\n",
                "results_top = spotify.artist_top_tracks(artist_uri)\n",
                "top_tracks = results_top[\"tracks\"]\n",
                "\n",
                "#Use of dict comprehension to create another dict with the required info for the exercise (easier to create a dataframe with it)\n",
                "filtered_results = [{key: mill_mins(value) if key == \"duration_ms\" else value for key, value in track.items() if key in [\"name\", \"popularity\", \"duration_ms\"]} \n",
                "                     for track in top_tracks]\n",
                "\n",
                "#Creating the dataframe from the filtered results, they are already in order from top to bottom popularity\n",
                "top_tracks_df = pd.DataFrame(filtered_results)\n",
                "\n",
                "#The dataframe created contains the duration in mins but the dict where it comes has the wrong name so we need to change it to display correctly\n",
                "top_tracks_df.rename(columns= {\"duration_ms\" : \"duration_mins\"}, inplace= True)\n",
                "print(top_tracks_df.head(3))\n",
                "\n",
                "#Creating the scatter plot from the data frame\n",
                "plt.scatter(top_tracks_df[\"duration_mins\"], top_tracks_df[\"popularity\"])\n",
                "plt.show()\n",
                "\n"
            ]
        }
    ],
    "metadata": {
        "kernelspec": {
            "display_name": "Python 3",
            "language": "python",
            "name": "python3"
        },
        "language_info": {
            "codemirror_mode": {
                "name": "ipython",
                "version": 3
            },
            "file_extension": ".py",
            "mimetype": "text/x-python",
            "name": "python",
            "nbconvert_exporter": "python",
            "pygments_lexer": "ipython3",
            "version": "3.11.4"
        },
        "orig_nbformat": 4
    },
    "nbformat": 4,
    "nbformat_minor": 2
}
